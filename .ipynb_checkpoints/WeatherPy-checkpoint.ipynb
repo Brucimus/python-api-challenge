{
 "cells": [
  {
   "cell_type": "markdown",
   "metadata": {},
   "source": [
    "# WeatherPy\n",
    "\n",
    "---\n",
    "\n",
    "## Starter Code to Generate Random Geographic Coordinates and a List of Cities"
   ]
  },
  {
   "cell_type": "code",
   "execution_count": 18,
   "metadata": {
    "scrolled": true
   },
   "outputs": [],
   "source": [
    "# Dependencies and Setup\n",
    "import matplotlib.pyplot as plt\n",
    "import pandas as pd\n",
    "import numpy as np\n",
    "import requests\n",
    "import time\n",
    "from scipy.stats import linregress\n",
    "import json\n",
    "\n",
    "# Impor the OpenWeatherMap API key\n",
    "from api_keys import weather_api_key\n",
    "\n",
    "# Import citipy to determine the cities based on latitude and longitude\n",
    "from citipy import citipy"
   ]
  },
  {
   "cell_type": "markdown",
   "metadata": {},
   "source": [
    "### Generate the Cities List by Using the `citipy` Library"
   ]
  },
  {
   "cell_type": "code",
   "execution_count": 64,
   "metadata": {},
   "outputs": [
    {
     "name": "stdout",
     "output_type": "stream",
     "text": [
      "Number of cities in the list: 605\n"
     ]
    }
   ],
   "source": [
    "# Empty list for holding the latitude and longitude combinations\n",
    "lat_lngs = []\n",
    "\n",
    "# Empty list for holding the cities names\n",
    "cities = []\n",
    "\n",
    "# Range of latitudes and longitudes\n",
    "lat_range = (-90, 90)\n",
    "lng_range = (-180, 180)\n",
    "\n",
    "# Create a set of random lat and lng combinations\n",
    "lats = np.random.uniform(lat_range[0], lat_range[1], size=1500)\n",
    "lngs = np.random.uniform(lng_range[0], lng_range[1], size=1500)\n",
    "lat_lngs = zip(lats, lngs)\n",
    "\n",
    "# Identify nearest city for each lat, lng combination\n",
    "for lat_lng in lat_lngs:\n",
    "    city = citipy.nearest_city(lat_lng[0], lat_lng[1]).city_name\n",
    "    \n",
    "    # If the city is unique, then add it to a our cities list\n",
    "    if city not in cities:\n",
    "        cities.append(city)\n",
    "\n",
    "# Print the city count to confirm sufficient count\n",
    "print(f\"Number of cities in the list: {len(cities)}\")\n",
    "# print(cities)"
   ]
  },
  {
   "cell_type": "markdown",
   "metadata": {},
   "source": [
    "---"
   ]
  },
  {
   "cell_type": "markdown",
   "metadata": {},
   "source": [
    "## Requirement 1: Create Plots to Showcase the Relationship Between Weather Variables and Latitude\n",
    "\n",
    "### Use the OpenWeatherMap API to retrieve weather data from the cities list generated in the started code"
   ]
  },
  {
   "cell_type": "code",
   "execution_count": 65,
   "metadata": {},
   "outputs": [
    {
     "name": "stdout",
     "output_type": "stream",
     "text": [
      "Beginning Data Retrieval     \n",
      "-----------------------------\n",
      "Processing Record 1 of Set 1 | hobart\n",
      "Processing Record 2 of Set 1 | kaka\n",
      "Processing Record 3 of Set 1 | yellowknife\n",
      "Processing Record 4 of Set 1 | san cristobal\n",
      "Processing Record 5 of Set 1 | punta arenas\n",
      "Processing Record 6 of Set 1 | constitucion\n",
      "Processing Record 7 of Set 1 | fortuna\n",
      "Processing Record 8 of Set 1 | busselton\n",
      "Processing Record 9 of Set 1 | barentsburg\n",
      "City not found. Skipping...\n",
      "Processing Record 10 of Set 1 | port elizabeth\n",
      "Processing Record 11 of Set 1 | leh\n",
      "Processing Record 12 of Set 1 | khatanga\n",
      "Processing Record 13 of Set 1 | albany\n",
      "Processing Record 14 of Set 1 | mataura\n",
      "Processing Record 15 of Set 1 | doha\n",
      "Processing Record 16 of Set 1 | roma\n",
      "Processing Record 17 of Set 1 | vostok\n",
      "Processing Record 18 of Set 1 | puerto ayora\n",
      "Processing Record 19 of Set 1 | puerto escondido\n",
      "Processing Record 20 of Set 1 | antofagasta\n",
      "Processing Record 21 of Set 1 | jamestown\n",
      "Processing Record 22 of Set 1 | puri\n",
      "Processing Record 23 of Set 1 | fasa\n",
      "Processing Record 24 of Set 1 | coquimbo\n",
      "Processing Record 25 of Set 1 | cap-aux-meules\n",
      "Processing Record 26 of Set 1 | chokurdakh\n",
      "Processing Record 27 of Set 1 | margate\n",
      "Processing Record 28 of Set 1 | merauke\n",
      "Processing Record 29 of Set 1 | moniquira\n",
      "Processing Record 30 of Set 1 | asyut\n",
      "Processing Record 31 of Set 1 | lorengau\n",
      "Processing Record 32 of Set 1 | fare\n",
      "Processing Record 33 of Set 1 | fukue\n",
      "Processing Record 34 of Set 1 | rikitea\n",
      "Processing Record 35 of Set 1 | bredasdorp\n",
      "Processing Record 36 of Set 1 | hithadhoo\n",
      "Processing Record 37 of Set 1 | taolanaro\n",
      "City not found. Skipping...\n",
      "Processing Record 38 of Set 1 | kapaa\n",
      "Processing Record 39 of Set 1 | havoysund\n",
      "Processing Record 40 of Set 1 | castro\n",
      "Processing Record 41 of Set 1 | geresk\n",
      "City not found. Skipping...\n",
      "Processing Record 42 of Set 1 | namibe\n",
      "Processing Record 43 of Set 1 | iqaluit\n",
      "Processing Record 44 of Set 1 | cape town\n",
      "Processing Record 45 of Set 1 | svetlogorsk\n",
      "Processing Record 46 of Set 1 | lagoa\n",
      "Processing Record 47 of Set 1 | codrington\n",
      "Processing Record 48 of Set 1 | corralillo\n",
      "Processing Record 49 of Set 1 | derzhavinsk\n",
      "Processing Record 50 of Set 1 | palabuhanratu\n",
      "City not found. Skipping...\n",
      "Processing Record 0 of Set 2 | port alfred\n",
      "Processing Record 1 of Set 2 | hilo\n",
      "Processing Record 2 of Set 2 | saint-philippe\n",
      "Processing Record 3 of Set 2 | tuatapere\n",
      "Processing Record 4 of Set 2 | severo-kurilsk\n",
      "Processing Record 5 of Set 2 | krivosheino\n",
      "Processing Record 6 of Set 2 | ushuaia\n",
      "Processing Record 7 of Set 2 | qaanaaq\n",
      "Processing Record 8 of Set 2 | conakry\n",
      "Processing Record 9 of Set 2 | aksu\n",
      "Processing Record 10 of Set 2 | zyryanka\n",
      "Processing Record 11 of Set 2 | liberal\n",
      "Processing Record 12 of Set 2 | monrovia\n",
      "Processing Record 13 of Set 2 | kulu\n",
      "Processing Record 14 of Set 2 | ponta do sol\n",
      "Processing Record 15 of Set 2 | dikson\n",
      "Processing Record 16 of Set 2 | tooele\n",
      "Processing Record 17 of Set 2 | kirakira\n",
      "Processing Record 18 of Set 2 | victoria\n",
      "Processing Record 19 of Set 2 | quarai\n",
      "Processing Record 20 of Set 2 | noumea\n",
      "Processing Record 21 of Set 2 | chara\n",
      "Processing Record 22 of Set 2 | bluff\n",
      "Processing Record 23 of Set 2 | kavieng\n",
      "Processing Record 24 of Set 2 | pangai\n",
      "Processing Record 25 of Set 2 | klaksvik\n",
      "Processing Record 26 of Set 2 | norman wells\n",
      "Processing Record 27 of Set 2 | amderma\n",
      "City not found. Skipping...\n",
      "Processing Record 28 of Set 2 | atuona\n",
      "Processing Record 29 of Set 2 | tiznit\n",
      "Processing Record 30 of Set 2 | kruisfontein\n",
      "Processing Record 31 of Set 2 | avarua\n",
      "Processing Record 32 of Set 2 | prudy\n",
      "Processing Record 33 of Set 2 | tiksi\n",
      "Processing Record 34 of Set 2 | tasiilaq\n",
      "Processing Record 35 of Set 2 | henties bay\n",
      "Processing Record 36 of Set 2 | hermanus\n",
      "Processing Record 37 of Set 2 | verkhoyansk\n",
      "Processing Record 38 of Set 2 | bethel\n",
      "Processing Record 39 of Set 2 | luderitz\n",
      "Processing Record 40 of Set 2 | altamont\n",
      "Processing Record 41 of Set 2 | pevek\n",
      "Processing Record 42 of Set 2 | clyde river\n",
      "Processing Record 43 of Set 2 | marienburg\n",
      "Processing Record 44 of Set 2 | nikolskoye\n",
      "Processing Record 45 of Set 2 | butaritari\n",
      "Processing Record 46 of Set 2 | belaya gora\n",
      "Processing Record 47 of Set 2 | anori\n",
      "Processing Record 48 of Set 2 | manggar\n",
      "Processing Record 49 of Set 2 | katsuura\n",
      "Processing Record 0 of Set 3 | camacha\n",
      "Processing Record 1 of Set 3 | san patricio\n",
      "Processing Record 2 of Set 3 | tigil\n",
      "Processing Record 3 of Set 3 | pangnirtung\n",
      "Processing Record 4 of Set 3 | plettenberg bay\n",
      "Processing Record 5 of Set 3 | maltahohe\n",
      "Processing Record 6 of Set 3 | raudeberg\n",
      "Processing Record 7 of Set 3 | alice springs\n",
      "Processing Record 8 of Set 3 | san carlos de bariloche\n",
      "Processing Record 9 of Set 3 | northam\n",
      "Processing Record 10 of Set 3 | cap malheureux\n",
      "Processing Record 11 of Set 3 | port hedland\n",
      "Processing Record 12 of Set 3 | warqla\n",
      "City not found. Skipping...\n",
      "Processing Record 13 of Set 3 | tuktoyaktuk\n",
      "Processing Record 14 of Set 3 | kiunga\n",
      "Processing Record 15 of Set 3 | belushya guba\n",
      "City not found. Skipping...\n",
      "Processing Record 16 of Set 3 | bonavista\n",
      "Processing Record 17 of Set 3 | bengkulu\n",
      "Processing Record 18 of Set 3 | kangaatsiaq\n",
      "Processing Record 19 of Set 3 | grand river south east\n",
      "City not found. Skipping...\n",
      "Processing Record 20 of Set 3 | wattegama\n",
      "Processing Record 21 of Set 3 | black river\n",
      "Processing Record 22 of Set 3 | poddorye\n",
      "Processing Record 23 of Set 3 | zuwarah\n",
      "Processing Record 24 of Set 3 | carnarvon\n",
      "Processing Record 25 of Set 3 | esperance\n",
      "Processing Record 26 of Set 3 | corrente\n",
      "Processing Record 27 of Set 3 | nilokheri\n",
      "Processing Record 28 of Set 3 | senneterre\n",
      "Processing Record 29 of Set 3 | san andres del rabanedo\n",
      "Processing Record 30 of Set 3 | khorramshahr\n",
      "Processing Record 31 of Set 3 | coihaique\n",
      "Processing Record 32 of Set 3 | bambous virieux\n",
      "Processing Record 33 of Set 3 | port-de-paix\n",
      "City not found. Skipping...\n",
      "Processing Record 34 of Set 3 | east london\n",
      "Processing Record 35 of Set 3 | husavik\n",
      "Processing Record 36 of Set 3 | pacific grove\n",
      "Processing Record 37 of Set 3 | khandagayty\n",
      "Processing Record 38 of Set 3 | comodoro rivadavia\n",
      "Processing Record 39 of Set 3 | georgetown\n",
      "Processing Record 40 of Set 3 | abu samrah\n",
      "Processing Record 41 of Set 3 | madaoua\n",
      "Processing Record 42 of Set 3 | kungurtug\n",
      "Processing Record 43 of Set 3 | bargal\n",
      "City not found. Skipping...\n",
      "Processing Record 44 of Set 3 | pauini\n",
      "Processing Record 45 of Set 3 | lavrentiya\n",
      "Processing Record 46 of Set 3 | abnub\n",
      "Processing Record 47 of Set 3 | san quintin\n",
      "Processing Record 48 of Set 3 | meyungs\n",
      "City not found. Skipping...\n",
      "Processing Record 49 of Set 3 | souillac\n",
      "Processing Record 0 of Set 4 | flin flon\n",
      "Processing Record 1 of Set 4 | belyy yar\n",
      "Processing Record 2 of Set 4 | ostersund\n",
      "Processing Record 3 of Set 4 | sangar\n",
      "Processing Record 4 of Set 4 | salalah\n",
      "Processing Record 5 of Set 4 | upernavik\n",
      "Processing Record 6 of Set 4 | mount isa\n",
      "Processing Record 7 of Set 4 | sudbury\n",
      "Processing Record 8 of Set 4 | arraial do cabo\n",
      "Processing Record 9 of Set 4 | sioux lookout\n",
      "Processing Record 10 of Set 4 | rawson\n",
      "Processing Record 11 of Set 4 | bolungarvik\n",
      "City not found. Skipping...\n",
      "Processing Record 12 of Set 4 | tevriz\n",
      "Processing Record 13 of Set 4 | vardo\n",
      "Processing Record 14 of Set 4 | new norfolk\n",
      "Processing Record 15 of Set 4 | matay\n",
      "Processing Record 16 of Set 4 | kenai\n",
      "Processing Record 17 of Set 4 | illoqqortoormiut\n",
      "City not found. Skipping...\n",
      "Processing Record 18 of Set 4 | gurgan\n",
      "City not found. Skipping...\n",
      "Processing Record 19 of Set 4 | lieksa\n",
      "Processing Record 20 of Set 4 | sosua\n",
      "Processing Record 21 of Set 4 | nanortalik\n",
      "Processing Record 22 of Set 4 | kaitangata\n",
      "Processing Record 23 of Set 4 | nizhneyansk\n",
      "City not found. Skipping...\n",
      "Processing Record 24 of Set 4 | bambanglipuro\n",
      "Processing Record 25 of Set 4 | koppang\n",
      "Processing Record 26 of Set 4 | murgab\n",
      "Processing Record 27 of Set 4 | perisoru\n",
      "Processing Record 28 of Set 4 | padang\n",
      "Processing Record 29 of Set 4 | salekhard\n",
      "Processing Record 30 of Set 4 | inhambane\n",
      "Processing Record 31 of Set 4 | goundam\n",
      "Processing Record 32 of Set 4 | turukhansk\n",
      "Processing Record 33 of Set 4 | saldanha\n",
      "Processing Record 34 of Set 4 | antalaha\n",
      "Processing Record 35 of Set 4 | ngama\n",
      "Processing Record 36 of Set 4 | barrow\n",
      "Processing Record 37 of Set 4 | kijang\n",
      "Processing Record 38 of Set 4 | lucea\n",
      "Processing Record 39 of Set 4 | tula\n",
      "Processing Record 40 of Set 4 | tura\n",
      "Processing Record 41 of Set 4 | severnyy\n",
      "Processing Record 42 of Set 4 | torbay\n",
      "Processing Record 43 of Set 4 | bage\n",
      "Processing Record 44 of Set 4 | russkaya polyana\n",
      "Processing Record 45 of Set 4 | mega\n",
      "Processing Record 46 of Set 4 | hamilton\n",
      "Processing Record 47 of Set 4 | shemonaikha\n",
      "Processing Record 48 of Set 4 | funtua\n",
      "Processing Record 49 of Set 4 | lata\n",
      "Processing Record 0 of Set 5 | sao jose da coroa grande\n",
      "Processing Record 1 of Set 5 | santa barbara\n",
      "Processing Record 2 of Set 5 | kailua\n",
      "Processing Record 3 of Set 5 | caravelas\n",
      "Processing Record 4 of Set 5 | srednekolymsk\n",
      "Processing Record 5 of Set 5 | fez\n",
      "Processing Record 6 of Set 5 | beira\n",
      "Processing Record 7 of Set 5 | zhigansk\n",
      "Processing Record 8 of Set 5 | hermiston\n",
      "Processing Record 9 of Set 5 | port shepstone\n",
      "Processing Record 10 of Set 5 | airai\n",
      "Processing Record 11 of Set 5 | deh rawud\n",
      "City not found. Skipping...\n",
      "Processing Record 12 of Set 5 | acapulco\n",
      "Processing Record 13 of Set 5 | lolua\n",
      "City not found. Skipping...\n",
      "Processing Record 14 of Set 5 | qaqortoq\n",
      "Processing Record 15 of Set 5 | qeshm\n",
      "Processing Record 16 of Set 5 | rorvik\n",
      "Processing Record 17 of Set 5 | tutoia\n",
      "Processing Record 18 of Set 5 | phalombe\n",
      "Processing Record 19 of Set 5 | areosa\n",
      "Processing Record 20 of Set 5 | kaeo\n",
      "Processing Record 21 of Set 5 | buon me thuot\n",
      "City not found. Skipping...\n",
      "Processing Record 22 of Set 5 | vestmanna\n",
      "Processing Record 23 of Set 5 | pringsewu\n",
      "Processing Record 24 of Set 5 | sao joao da barra\n",
      "Processing Record 25 of Set 5 | necochea\n",
      "Processing Record 26 of Set 5 | naze\n",
      "Processing Record 27 of Set 5 | razdolinsk\n",
      "Processing Record 28 of Set 5 | mandurah\n",
      "Processing Record 29 of Set 5 | mount gambier\n",
      "Processing Record 30 of Set 5 | kathu\n",
      "Processing Record 31 of Set 5 | marcona\n",
      "City not found. Skipping...\n",
      "Processing Record 32 of Set 5 | alofi\n",
      "Processing Record 33 of Set 5 | auki\n",
      "Processing Record 34 of Set 5 | vaitupu\n",
      "City not found. Skipping...\n",
      "Processing Record 35 of Set 5 | fethiye\n",
      "Processing Record 36 of Set 5 | sindand\n",
      "City not found. Skipping...\n",
      "Processing Record 37 of Set 5 | nevsehir\n",
      "Processing Record 38 of Set 5 | gamba\n",
      "Processing Record 39 of Set 5 | karkaralinsk\n",
      "City not found. Skipping...\n",
      "Processing Record 40 of Set 5 | springbok\n",
      "Processing Record 41 of Set 5 | hasaki\n",
      "Processing Record 42 of Set 5 | pontes e lacerda\n",
      "Processing Record 43 of Set 5 | portree\n",
      "Processing Record 44 of Set 5 | kitami\n",
      "Processing Record 45 of Set 5 | ribeira grande\n",
      "Processing Record 46 of Set 5 | mahebourg\n",
      "Processing Record 47 of Set 5 | longkou\n",
      "Processing Record 48 of Set 5 | nokaneng\n",
      "Processing Record 49 of Set 5 | sentyabrskiy\n",
      "City not found. Skipping...\n",
      "Processing Record 0 of Set 6 | sahbuz\n",
      "Processing Record 1 of Set 6 | faanui\n",
      "Processing Record 2 of Set 6 | luklukan\n",
      "Processing Record 3 of Set 6 | cabo san lucas\n",
      "Processing Record 4 of Set 6 | samarai\n",
      "Processing Record 5 of Set 6 | sembakung\n",
      "Processing Record 6 of Set 6 | namatanai\n",
      "Processing Record 7 of Set 6 | matara\n",
      "Processing Record 8 of Set 6 | killybegs\n",
      "Processing Record 9 of Set 6 | huarmey\n",
      "Processing Record 10 of Set 6 | walvis bay\n",
      "Processing Record 11 of Set 6 | yangliuqing\n",
      "Processing Record 12 of Set 6 | mooi river\n",
      "City not found. Skipping...\n",
      "Processing Record 13 of Set 6 | maxixe\n",
      "Processing Record 14 of Set 6 | kodiak\n",
      "Processing Record 15 of Set 6 | svetlyy\n",
      "Processing Record 16 of Set 6 | melioratorov\n",
      "Processing Record 17 of Set 6 | karaul\n",
      "City not found. Skipping...\n",
      "Processing Record 18 of Set 6 | nakamura\n",
      "Processing Record 19 of Set 6 | jiexiu\n",
      "Processing Record 20 of Set 6 | harer\n",
      "Processing Record 21 of Set 6 | geraldton\n",
      "Processing Record 22 of Set 6 | otukpo\n",
      "Processing Record 23 of Set 6 | lebu\n",
      "Processing Record 24 of Set 6 | axixa do tocantins\n",
      "City not found. Skipping...\n",
      "Processing Record 25 of Set 6 | ponnani\n",
      "Processing Record 26 of Set 6 | bouar\n",
      "Processing Record 27 of Set 6 | jadu\n",
      "Processing Record 28 of Set 6 | anadyr\n",
      "Processing Record 29 of Set 6 | deputatskiy\n",
      "Processing Record 30 of Set 6 | malinovoye ozero\n",
      "Processing Record 31 of Set 6 | port augusta\n",
      "Processing Record 32 of Set 6 | senno\n",
      "Processing Record 33 of Set 6 | nouadhibou\n",
      "Processing Record 34 of Set 6 | port blair\n",
      "Processing Record 35 of Set 6 | novolvovsk\n",
      "City not found. Skipping...\n",
      "Processing Record 36 of Set 6 | yian\n",
      "City not found. Skipping...\n",
      "Processing Record 37 of Set 6 | ancud\n",
      "Processing Record 38 of Set 6 | berdigestyakh\n",
      "Processing Record 39 of Set 6 | burnie\n",
      "Processing Record 40 of Set 6 | darovskoy\n",
      "Processing Record 41 of Set 6 | wanaka\n",
      "Processing Record 42 of Set 6 | sorland\n",
      "Processing Record 43 of Set 6 | prince rupert\n",
      "Processing Record 44 of Set 6 | kurilsk\n",
      "Processing Record 45 of Set 6 | gari\n",
      "Processing Record 46 of Set 6 | attawapiskat\n",
      "City not found. Skipping...\n",
      "Processing Record 47 of Set 6 | longyearbyen\n",
      "Processing Record 48 of Set 6 | pochutla\n",
      "Processing Record 49 of Set 6 | dubbo\n",
      "Processing Record 0 of Set 7 | lubbock\n",
      "Processing Record 1 of Set 7 | bull savanna\n",
      "Processing Record 2 of Set 7 | mayo\n",
      "Processing Record 3 of Set 7 | sidhauli\n",
      "Processing Record 4 of Set 7 | mandalay\n",
      "Processing Record 5 of Set 7 | saleaula\n",
      "City not found. Skipping...\n",
      "Processing Record 6 of Set 7 | kidal\n",
      "Processing Record 7 of Set 7 | sovetskiy\n",
      "Processing Record 8 of Set 7 | malko tarnovo\n",
      "Processing Record 9 of Set 7 | muravlenko\n",
      "Processing Record 10 of Set 7 | crossville\n",
      "Processing Record 11 of Set 7 | bograd\n",
      "Processing Record 12 of Set 7 | vao\n",
      "Processing Record 13 of Set 7 | talnakh\n",
      "Processing Record 14 of Set 7 | alihe\n",
      "Processing Record 15 of Set 7 | mumford\n",
      "Processing Record 16 of Set 7 | nouakchott\n",
      "Processing Record 17 of Set 7 | saskylakh\n",
      "Processing Record 18 of Set 7 | lompoc\n",
      "Processing Record 19 of Set 7 | chuy\n",
      "Processing Record 20 of Set 7 | ginda\n",
      "Processing Record 21 of Set 7 | qasigiannguit\n",
      "Processing Record 22 of Set 7 | dhing\n",
      "Processing Record 23 of Set 7 | churapcha\n",
      "Processing Record 24 of Set 7 | leninskoye\n",
      "Processing Record 25 of Set 7 | mut\n",
      "Processing Record 26 of Set 7 | tumannyy\n",
      "City not found. Skipping...\n",
      "Processing Record 27 of Set 7 | vaini\n",
      "Processing Record 28 of Set 7 | sarankhola\n",
      "Processing Record 29 of Set 7 | chhuikhadan\n",
      "Processing Record 30 of Set 7 | carmen\n",
      "Processing Record 31 of Set 7 | bilma\n",
      "Processing Record 32 of Set 7 | ust-tsilma\n",
      "Processing Record 33 of Set 7 | kuche\n",
      "City not found. Skipping...\n",
      "Processing Record 34 of Set 7 | sedkyrkeshch\n",
      "Processing Record 35 of Set 7 | seydisehir\n",
      "Processing Record 36 of Set 7 | fort nelson\n",
      "Processing Record 37 of Set 7 | boyolangu\n",
      "Processing Record 38 of Set 7 | askiz\n",
      "Processing Record 39 of Set 7 | tagusao\n",
      "Processing Record 40 of Set 7 | samusu\n",
      "City not found. Skipping...\n",
      "Processing Record 41 of Set 7 | sirawai\n",
      "Processing Record 42 of Set 7 | san juan\n",
      "Processing Record 43 of Set 7 | tiarei\n",
      "Processing Record 44 of Set 7 | kapit\n",
      "Processing Record 45 of Set 7 | haibowan\n",
      "City not found. Skipping...\n",
      "Processing Record 46 of Set 7 | morgan city\n",
      "Processing Record 47 of Set 7 | capitao poco\n",
      "Processing Record 48 of Set 7 | vilyuysk\n",
      "Processing Record 49 of Set 7 | urubicha\n",
      "Processing Record 0 of Set 8 | reconquista\n",
      "Processing Record 1 of Set 8 | bima\n",
      "Processing Record 2 of Set 8 | cayenne\n",
      "Processing Record 3 of Set 8 | pandaria\n",
      "Processing Record 4 of Set 8 | ahipara\n",
      "Processing Record 5 of Set 8 | manono\n",
      "Processing Record 6 of Set 8 | cherskiy\n",
      "Processing Record 7 of Set 8 | bara\n",
      "Processing Record 8 of Set 8 | golden\n",
      "Processing Record 9 of Set 8 | teruel\n",
      "Processing Record 10 of Set 8 | bathsheba\n",
      "Processing Record 11 of Set 8 | kushima\n",
      "Processing Record 12 of Set 8 | mergui\n",
      "City not found. Skipping...\n",
      "Processing Record 13 of Set 8 | eyl\n",
      "Processing Record 14 of Set 8 | thompson\n",
      "Processing Record 15 of Set 8 | terrassa\n",
      "Processing Record 16 of Set 8 | krasnoselkup\n",
      "Processing Record 17 of Set 8 | saint george\n",
      "Processing Record 18 of Set 8 | cidreira\n",
      "Processing Record 19 of Set 8 | noyabrsk\n",
      "Processing Record 20 of Set 8 | ossora\n",
      "Processing Record 21 of Set 8 | bilibino\n",
      "Processing Record 22 of Set 8 | sorong\n",
      "Processing Record 23 of Set 8 | kavaratti\n",
      "Processing Record 24 of Set 8 | tubruq\n",
      "City not found. Skipping...\n",
      "Processing Record 25 of Set 8 | arica\n",
      "Processing Record 26 of Set 8 | keti bandar\n",
      "Processing Record 27 of Set 8 | coos bay\n",
      "Processing Record 28 of Set 8 | anchorage\n",
      "Processing Record 29 of Set 8 | dharchula\n",
      "Processing Record 30 of Set 8 | thinadhoo\n",
      "Processing Record 31 of Set 8 | los llanos de aridane\n",
      "Processing Record 32 of Set 8 | otane\n",
      "Processing Record 33 of Set 8 | rungata\n",
      "City not found. Skipping...\n",
      "Processing Record 34 of Set 8 | diamantino\n",
      "Processing Record 35 of Set 8 | zhezkazgan\n",
      "Processing Record 36 of Set 8 | ratholo\n",
      "Processing Record 37 of Set 8 | yar-sale\n",
      "Processing Record 38 of Set 8 | isangel\n",
      "Processing Record 39 of Set 8 | guerrero negro\n",
      "Processing Record 40 of Set 8 | hongjiang\n",
      "Processing Record 41 of Set 8 | ilulissat\n",
      "Processing Record 42 of Set 8 | kontagora\n",
      "Processing Record 43 of Set 8 | rasht\n",
      "Processing Record 44 of Set 8 | buariki\n",
      "City not found. Skipping...\n",
      "Processing Record 45 of Set 8 | flinders\n",
      "Processing Record 46 of Set 8 | mantua\n",
      "Processing Record 47 of Set 8 | selikhino\n",
      "Processing Record 48 of Set 8 | ayan\n",
      "Processing Record 49 of Set 8 | leningradskiy\n",
      "Processing Record 0 of Set 9 | beloha\n",
      "Processing Record 1 of Set 9 | plougastel-daoulas\n",
      "Processing Record 2 of Set 9 | umm durman\n",
      "City not found. Skipping...\n",
      "Processing Record 3 of Set 9 | halifax\n",
      "Processing Record 4 of Set 9 | goundi\n",
      "Processing Record 5 of Set 9 | itacarambi\n",
      "Processing Record 6 of Set 9 | elk river\n",
      "Processing Record 7 of Set 9 | provideniya\n",
      "Processing Record 8 of Set 9 | umm kaddadah\n",
      "Processing Record 9 of Set 9 | sandovo\n",
      "Processing Record 10 of Set 9 | takoradi\n",
      "Processing Record 11 of Set 9 | yumen\n",
      "Processing Record 12 of Set 9 | kalmunai\n",
      "Processing Record 13 of Set 9 | mys shmidta\n",
      "City not found. Skipping...\n",
      "Processing Record 14 of Set 9 | laurinburg\n",
      "Processing Record 15 of Set 9 | along\n",
      "Processing Record 16 of Set 9 | tarabha\n",
      "Processing Record 17 of Set 9 | kununurra\n",
      "Processing Record 18 of Set 9 | ixtapa\n",
      "Processing Record 19 of Set 9 | ardakan\n",
      "Processing Record 20 of Set 9 | nhulunbuy\n",
      "Processing Record 21 of Set 9 | pop\n",
      "Processing Record 22 of Set 9 | nelson bay\n",
      "Processing Record 23 of Set 9 | karratha\n",
      "Processing Record 24 of Set 9 | alanya\n",
      "Processing Record 25 of Set 9 | mar del plata\n",
      "Processing Record 26 of Set 9 | komsomolskiy\n",
      "Processing Record 27 of Set 9 | aklavik\n",
      "Processing Record 28 of Set 9 | aketi\n",
      "Processing Record 29 of Set 9 | kieta\n",
      "Processing Record 30 of Set 9 | longlac\n",
      "City not found. Skipping...\n",
      "Processing Record 31 of Set 9 | storforshei\n",
      "Processing Record 32 of Set 9 | bichena\n",
      "Processing Record 33 of Set 9 | udachnyy\n",
      "Processing Record 34 of Set 9 | touros\n",
      "Processing Record 35 of Set 9 | ye\n",
      "City not found. Skipping...\n",
      "Processing Record 36 of Set 9 | cortes\n",
      "Processing Record 37 of Set 9 | sao filipe\n",
      "Processing Record 38 of Set 9 | evensk\n",
      "Processing Record 39 of Set 9 | lazaro cardenas\n",
      "Processing Record 40 of Set 9 | paita\n",
      "Processing Record 41 of Set 9 | gat\n",
      "Processing Record 42 of Set 9 | kashi\n",
      "Processing Record 43 of Set 9 | seoul\n",
      "Processing Record 44 of Set 9 | yeppoon\n",
      "Processing Record 45 of Set 9 | saquena\n",
      "Processing Record 46 of Set 9 | grindavik\n",
      "Processing Record 47 of Set 9 | sumbe\n",
      "Processing Record 48 of Set 9 | yashkul\n",
      "Processing Record 49 of Set 9 | ha giang\n",
      "Processing Record 0 of Set 10 | coahuayana\n",
      "Processing Record 1 of Set 10 | oktyabrskoye\n",
      "Processing Record 2 of Set 10 | waipawa\n",
      "Processing Record 3 of Set 10 | powell\n",
      "Processing Record 4 of Set 10 | hualmay\n",
      "Processing Record 5 of Set 10 | shakawe\n",
      "Processing Record 6 of Set 10 | mizdah\n",
      "Processing Record 7 of Set 10 | bealanana\n",
      "Processing Record 8 of Set 10 | sandpoint\n",
      "Processing Record 9 of Set 10 | beringovskiy\n",
      "Processing Record 10 of Set 10 | linjiang\n",
      "Processing Record 11 of Set 10 | magadan\n",
      "Processing Record 12 of Set 10 | sisimiut\n",
      "Processing Record 13 of Set 10 | egvekinot\n",
      "Processing Record 14 of Set 10 | colac\n",
      "Processing Record 15 of Set 10 | paramonga\n",
      "Processing Record 16 of Set 10 | vestmannaeyjar\n",
      "Processing Record 17 of Set 10 | solnechnyy\n",
      "Processing Record 18 of Set 10 | sambava\n",
      "Processing Record 19 of Set 10 | poum\n",
      "Processing Record 20 of Set 10 | tabiauea\n",
      "City not found. Skipping...\n",
      "Processing Record 21 of Set 10 | dwarka\n",
      "Processing Record 22 of Set 10 | chimbote\n",
      "Processing Record 23 of Set 10 | atambua\n",
      "Processing Record 24 of Set 10 | jining\n",
      "Processing Record 25 of Set 10 | la ronge\n",
      "Processing Record 26 of Set 10 | santa cruz\n",
      "Processing Record 27 of Set 10 | broome\n",
      "Processing Record 28 of Set 10 | itarema\n",
      "Processing Record 29 of Set 10 | ngukurr\n",
      "City not found. Skipping...\n",
      "Processing Record 30 of Set 10 | sharjah\n",
      "Processing Record 31 of Set 10 | ostrovnoy\n",
      "Processing Record 32 of Set 10 | grand gaube\n",
      "Processing Record 33 of Set 10 | magdagachi\n",
      "Processing Record 34 of Set 10 | port hardy\n",
      "Processing Record 35 of Set 10 | mercedes\n",
      "Processing Record 36 of Set 10 | amos\n",
      "Processing Record 37 of Set 10 | notre-dame-du-lac\n",
      "Processing Record 38 of Set 10 | benoy\n",
      "Processing Record 39 of Set 10 | tsabong\n",
      "Processing Record 40 of Set 10 | fuyu\n",
      "Processing Record 41 of Set 10 | phalodi\n",
      "Processing Record 42 of Set 10 | adrar\n",
      "Processing Record 43 of Set 10 | narsaq\n",
      "Processing Record 44 of Set 10 | gainesville\n",
      "Processing Record 45 of Set 10 | fairbanks\n",
      "Processing Record 46 of Set 10 | chegutu\n",
      "Processing Record 47 of Set 10 | westport\n",
      "Processing Record 48 of Set 10 | abbeville\n",
      "Processing Record 49 of Set 10 | boone\n",
      "Processing Record 0 of Set 11 | nemuro\n",
      "Processing Record 1 of Set 11 | kondoa\n",
      "Processing Record 2 of Set 11 | palmares do sul\n",
      "Processing Record 3 of Set 11 | olafsvik\n",
      "Processing Record 4 of Set 11 | san angelo\n",
      "Processing Record 5 of Set 11 | kedrovyy\n",
      "Processing Record 6 of Set 11 | tshikapa\n",
      "Processing Record 7 of Set 11 | gazojak\n",
      "Processing Record 8 of Set 11 | lakes entrance\n",
      "Processing Record 9 of Set 11 | quatre cocos\n",
      "Processing Record 10 of Set 11 | bandrele\n",
      "Processing Record 11 of Set 11 | tuy hoa\n",
      "Processing Record 12 of Set 11 | plouzane\n",
      "Processing Record 13 of Set 11 | macherla\n",
      "Processing Record 14 of Set 11 | guayaramerin\n",
      "Processing Record 15 of Set 11 | lucapa\n",
      "Processing Record 16 of Set 11 | smidovich\n",
      "Processing Record 17 of Set 11 | usogorsk\n",
      "Processing Record 18 of Set 11 | broken hill\n",
      "Processing Record 19 of Set 11 | mafeteng\n",
      "Processing Record 20 of Set 11 | naliya\n",
      "Processing Record 21 of Set 11 | akyab\n",
      "Processing Record 22 of Set 11 | santiago del estero\n",
      "Processing Record 23 of Set 11 | peterongan\n",
      "Processing Record 24 of Set 11 | hervey bay\n",
      "Processing Record 25 of Set 11 | vila\n",
      "Processing Record 26 of Set 11 | bokspits\n",
      "City not found. Skipping...\n",
      "Processing Record 27 of Set 11 | viedma\n",
      "Processing Record 28 of Set 11 | elizabeth city\n",
      "Processing Record 29 of Set 11 | celestun\n",
      "Processing Record 30 of Set 11 | kasama\n",
      "Processing Record 31 of Set 11 | faya\n",
      "Processing Record 32 of Set 11 | hofn\n",
      "Processing Record 33 of Set 11 | sept-iles\n",
      "Processing Record 34 of Set 11 | harper\n",
      "Processing Record 35 of Set 11 | chavakkad\n",
      "Processing Record 36 of Set 11 | amapa\n",
      "Processing Record 37 of Set 11 | azoyu\n",
      "Processing Record 38 of Set 11 | grand centre\n",
      "City not found. Skipping...\n",
      "Processing Record 39 of Set 11 | grand-lahou\n",
      "Processing Record 40 of Set 11 | gidam\n",
      "Processing Record 41 of Set 11 | saint-pierre\n",
      "Processing Record 42 of Set 11 | ahuimanu\n",
      "Processing Record 43 of Set 11 | proletarsk\n",
      "Processing Record 44 of Set 11 | road town\n",
      "Processing Record 45 of Set 11 | sur\n",
      "Processing Record 46 of Set 11 | boueni\n",
      "Processing Record 47 of Set 11 | arak\n",
      "Processing Record 48 of Set 11 | newton\n",
      "Processing Record 49 of Set 11 | praia da vitoria\n",
      "Processing Record 0 of Set 12 | maceio\n",
      "Processing Record 1 of Set 12 | dinsor\n",
      "City not found. Skipping...\n",
      "Processing Record 2 of Set 12 | griffith\n",
      "Processing Record 3 of Set 12 | dingle\n",
      "Processing Record 4 of Set 12 | hovd\n",
      "Processing Record 5 of Set 12 | bandarbeyla\n",
      "Processing Record 6 of Set 12 | vokhtoga\n",
      "Processing Record 7 of Set 12 | marawi\n",
      "Processing Record 8 of Set 12 | ust-kuyga\n",
      "Processing Record 9 of Set 12 | murovane\n",
      "Processing Record 10 of Set 12 | sile\n",
      "Processing Record 11 of Set 12 | mudanya\n",
      "Processing Record 12 of Set 12 | maragogi\n",
      "Processing Record 13 of Set 12 | jacobina\n",
      "Processing Record 14 of Set 12 | pemba\n",
      "Processing Record 15 of Set 12 | dogondoutchi\n",
      "Processing Record 16 of Set 12 | parnamirim\n",
      "Processing Record 17 of Set 12 | nome\n",
      "Processing Record 18 of Set 12 | taft\n",
      "Processing Record 19 of Set 12 | mana\n",
      "Processing Record 20 of Set 12 | nanakuli\n",
      "Processing Record 21 of Set 12 | brattvag\n",
      "Processing Record 22 of Set 12 | sungaipenuh\n",
      "Processing Record 23 of Set 12 | lushunkou\n",
      "City not found. Skipping...\n",
      "Processing Record 24 of Set 12 | tsihombe\n",
      "City not found. Skipping...\n",
      "Processing Record 25 of Set 12 | college\n",
      "Processing Record 26 of Set 12 | sagua la grande\n",
      "Processing Record 27 of Set 12 | montevideo\n",
      "Processing Record 28 of Set 12 | shellbrook\n",
      "Processing Record 29 of Set 12 | sibolga\n",
      "Processing Record 30 of Set 12 | gweta\n",
      "Processing Record 31 of Set 12 | rio gallegos\n",
      "Processing Record 32 of Set 12 | malakal\n",
      "Processing Record 33 of Set 12 | georgiyevka\n",
      "Processing Record 34 of Set 12 | culaman\n",
      "Processing Record 35 of Set 12 | pemangkat\n",
      "Processing Record 36 of Set 12 | mehamn\n",
      "Processing Record 37 of Set 12 | kamenskoye\n",
      "City not found. Skipping...\n",
      "Processing Record 38 of Set 12 | peoria\n",
      "Processing Record 39 of Set 12 | port macquarie\n",
      "Processing Record 40 of Set 12 | toamasina\n",
      "Processing Record 41 of Set 12 | rocha\n",
      "Processing Record 42 of Set 12 | lichuan\n",
      "Processing Record 43 of Set 12 | chapais\n",
      "Processing Record 44 of Set 12 | ouro preto do oeste\n",
      "Processing Record 45 of Set 12 | xuddur\n",
      "Processing Record 46 of Set 12 | baiyin\n",
      "Processing Record 47 of Set 12 | asfi\n",
      "Processing Record 48 of Set 12 | hirara\n",
      "Processing Record 49 of Set 12 | camabatela\n",
      "Processing Record 0 of Set 13 | colesberg\n",
      "Processing Record 1 of Set 13 | kleive\n",
      "Processing Record 2 of Set 13 | yulara\n",
      "Processing Record 3 of Set 13 | saint-augustin\n",
      "Processing Record 4 of Set 13 | vakhsh\n",
      "-----------------------------\n",
      "Data Retrieval Complete      \n",
      "-----------------------------\n"
     ]
    }
   ],
   "source": [
    "# Set the API base URL\n",
    "url = \"http://api.openweathermap.org/data/2.5/weather?\"\n",
    "\n",
    "# Define an empty list to fetch the weather data for each city\n",
    "city_data = []\n",
    "\n",
    "# Print to logger\n",
    "print(\"Beginning Data Retrieval     \")\n",
    "print(\"-----------------------------\")\n",
    "\n",
    "# Create counters\n",
    "record_count = 1\n",
    "set_count = 1\n",
    "\n",
    "# Loop through all the cities in our list to fetch weather data\n",
    "for i, city in enumerate(cities):\n",
    "        \n",
    "    # Group cities in sets of 50 for logging purposes\n",
    "    if (i % 50 == 0 and i >= 50):\n",
    "        set_count += 1\n",
    "        record_count = 0\n",
    "\n",
    "    # Create endpoint URL with each city\n",
    "    city_url = f\"{url}q={city}&units=Imperial&appid={weather_api_key}\"\n",
    "    \n",
    "    # print(city_url)\n",
    "#     # Log the url, record, and set numbers\n",
    "    print(\"Processing Record %s of Set %s | %s\" % (record_count, set_count, city))\n",
    "\n",
    "#     # Add 1 to the record count\n",
    "    record_count += 1\n",
    "\n",
    "#     # Run an API request for each of the cities\n",
    "    try:\n",
    "        # Parse the JSON and retrieve data\n",
    "        city_weather = requests.get(city_url).json()\n",
    "\n",
    "#         # Parse out latitude, longitude, max temp, humidity, cloudiness, wind speed, country, and date\n",
    "        city_lat = city_weather[\"coord\"][\"lat\"]\n",
    "        city_lng = city_weather[\"coord\"][\"lon\"]\n",
    "        city_max_temp = city_weather[\"main\"][\"temp_max\"]\n",
    "        city_humidity = city_weather[\"main\"][\"humidity\"]\n",
    "        city_clouds = city_weather[\"clouds\"][\"all\"]\n",
    "        city_wind = city_weather[\"wind\"][\"speed\"]\n",
    "        city_country = city_weather[\"sys\"][\"country\"]\n",
    "        city_date = city_weather[\"dt\"]\n",
    "\n",
    "#         # Append the City information into city_data list\n",
    "        city_data.append({\"City\": city, \n",
    "                          \"Lat\": city_lat, \n",
    "                          \"Lng\": city_lng, \n",
    "                          \"Max Temp\": city_max_temp,\n",
    "                          \"Humidity\": city_humidity,\n",
    "                          \"Cloudiness\": city_clouds,\n",
    "                          \"Wind Speed\": city_wind,\n",
    "                          \"Country\": city_country,\n",
    "                          \"Date\": city_date})\n",
    "\n",
    "#     # If an error is experienced, skip the city\n",
    "    except:\n",
    "        print(\"City not found. Skipping...\")\n",
    "        pass\n",
    "              \n",
    "# Indicate that Data Loading is complete \n",
    "print(\"-----------------------------\")\n",
    "print(\"Data Retrieval Complete      \")\n",
    "print(\"-----------------------------\")"
   ]
  },
  {
   "cell_type": "code",
   "execution_count": 66,
   "metadata": {},
   "outputs": [
    {
     "data": {
      "text/plain": [
       "City          555\n",
       "Lat           555\n",
       "Lng           555\n",
       "Max Temp      555\n",
       "Humidity      555\n",
       "Cloudiness    555\n",
       "Wind Speed    555\n",
       "Country       555\n",
       "Date          555\n",
       "dtype: int64"
      ]
     },
     "execution_count": 66,
     "metadata": {},
     "output_type": "execute_result"
    }
   ],
   "source": [
    "# Convert the cities weather data into a Pandas DataFrame\n",
    "city_data_df = pd.DataFrame(city_data)\n",
    "city_data_df\n",
    "\n",
    "# Show Record Count\n",
    "city_data_df.count()"
   ]
  },
  {
   "cell_type": "code",
   "execution_count": 67,
   "metadata": {},
   "outputs": [
    {
     "data": {
      "text/html": [
       "<div>\n",
       "<style scoped>\n",
       "    .dataframe tbody tr th:only-of-type {\n",
       "        vertical-align: middle;\n",
       "    }\n",
       "\n",
       "    .dataframe tbody tr th {\n",
       "        vertical-align: top;\n",
       "    }\n",
       "\n",
       "    .dataframe thead th {\n",
       "        text-align: right;\n",
       "    }\n",
       "</style>\n",
       "<table border=\"1\" class=\"dataframe\">\n",
       "  <thead>\n",
       "    <tr style=\"text-align: right;\">\n",
       "      <th></th>\n",
       "      <th>City</th>\n",
       "      <th>Lat</th>\n",
       "      <th>Lng</th>\n",
       "      <th>Max Temp</th>\n",
       "      <th>Humidity</th>\n",
       "      <th>Cloudiness</th>\n",
       "      <th>Wind Speed</th>\n",
       "      <th>Country</th>\n",
       "      <th>Date</th>\n",
       "    </tr>\n",
       "  </thead>\n",
       "  <tbody>\n",
       "    <tr>\n",
       "      <th>0</th>\n",
       "      <td>hobart</td>\n",
       "      <td>-42.8794</td>\n",
       "      <td>147.3294</td>\n",
       "      <td>53.46</td>\n",
       "      <td>72</td>\n",
       "      <td>75</td>\n",
       "      <td>17.27</td>\n",
       "      <td>AU</td>\n",
       "      <td>1668580755</td>\n",
       "    </tr>\n",
       "    <tr>\n",
       "      <th>1</th>\n",
       "      <td>kaka</td>\n",
       "      <td>37.3482</td>\n",
       "      <td>59.6143</td>\n",
       "      <td>54.68</td>\n",
       "      <td>41</td>\n",
       "      <td>0</td>\n",
       "      <td>3.04</td>\n",
       "      <td>TM</td>\n",
       "      <td>1668580880</td>\n",
       "    </tr>\n",
       "    <tr>\n",
       "      <th>2</th>\n",
       "      <td>yellowknife</td>\n",
       "      <td>62.4560</td>\n",
       "      <td>-114.3525</td>\n",
       "      <td>16.32</td>\n",
       "      <td>73</td>\n",
       "      <td>75</td>\n",
       "      <td>19.57</td>\n",
       "      <td>CA</td>\n",
       "      <td>1668580881</td>\n",
       "    </tr>\n",
       "    <tr>\n",
       "      <th>3</th>\n",
       "      <td>san cristobal</td>\n",
       "      <td>7.7669</td>\n",
       "      <td>-72.2250</td>\n",
       "      <td>64.65</td>\n",
       "      <td>96</td>\n",
       "      <td>95</td>\n",
       "      <td>1.92</td>\n",
       "      <td>VE</td>\n",
       "      <td>1668580881</td>\n",
       "    </tr>\n",
       "    <tr>\n",
       "      <th>4</th>\n",
       "      <td>punta arenas</td>\n",
       "      <td>-53.1500</td>\n",
       "      <td>-70.9167</td>\n",
       "      <td>46.51</td>\n",
       "      <td>61</td>\n",
       "      <td>40</td>\n",
       "      <td>5.75</td>\n",
       "      <td>CL</td>\n",
       "      <td>1668580881</td>\n",
       "    </tr>\n",
       "  </tbody>\n",
       "</table>\n",
       "</div>"
      ],
      "text/plain": [
       "            City      Lat       Lng  Max Temp  Humidity  Cloudiness  \\\n",
       "0         hobart -42.8794  147.3294     53.46        72          75   \n",
       "1           kaka  37.3482   59.6143     54.68        41           0   \n",
       "2    yellowknife  62.4560 -114.3525     16.32        73          75   \n",
       "3  san cristobal   7.7669  -72.2250     64.65        96          95   \n",
       "4   punta arenas -53.1500  -70.9167     46.51        61          40   \n",
       "\n",
       "   Wind Speed Country        Date  \n",
       "0       17.27      AU  1668580755  \n",
       "1        3.04      TM  1668580880  \n",
       "2       19.57      CA  1668580881  \n",
       "3        1.92      VE  1668580881  \n",
       "4        5.75      CL  1668580881  "
      ]
     },
     "execution_count": 67,
     "metadata": {},
     "output_type": "execute_result"
    }
   ],
   "source": [
    "# Display sample data\n",
    "city_data_df.head()"
   ]
  },
  {
   "cell_type": "code",
   "execution_count": 68,
   "metadata": {},
   "outputs": [],
   "source": [
    "# Export the City_Data into a csv\n",
    "city_data_df.to_csv(\"output_data/cities.csv\", index_label=\"City_ID\")"
   ]
  },
  {
   "cell_type": "code",
   "execution_count": 69,
   "metadata": {},
   "outputs": [
    {
     "data": {
      "text/html": [
       "<div>\n",
       "<style scoped>\n",
       "    .dataframe tbody tr th:only-of-type {\n",
       "        vertical-align: middle;\n",
       "    }\n",
       "\n",
       "    .dataframe tbody tr th {\n",
       "        vertical-align: top;\n",
       "    }\n",
       "\n",
       "    .dataframe thead th {\n",
       "        text-align: right;\n",
       "    }\n",
       "</style>\n",
       "<table border=\"1\" class=\"dataframe\">\n",
       "  <thead>\n",
       "    <tr style=\"text-align: right;\">\n",
       "      <th></th>\n",
       "      <th>City</th>\n",
       "      <th>Lat</th>\n",
       "      <th>Lng</th>\n",
       "      <th>Max Temp</th>\n",
       "      <th>Humidity</th>\n",
       "      <th>Cloudiness</th>\n",
       "      <th>Wind Speed</th>\n",
       "      <th>Country</th>\n",
       "      <th>Date</th>\n",
       "    </tr>\n",
       "    <tr>\n",
       "      <th>City_ID</th>\n",
       "      <th></th>\n",
       "      <th></th>\n",
       "      <th></th>\n",
       "      <th></th>\n",
       "      <th></th>\n",
       "      <th></th>\n",
       "      <th></th>\n",
       "      <th></th>\n",
       "      <th></th>\n",
       "    </tr>\n",
       "  </thead>\n",
       "  <tbody>\n",
       "    <tr>\n",
       "      <th>0</th>\n",
       "      <td>hobart</td>\n",
       "      <td>-42.8794</td>\n",
       "      <td>147.3294</td>\n",
       "      <td>53.46</td>\n",
       "      <td>72</td>\n",
       "      <td>75</td>\n",
       "      <td>17.27</td>\n",
       "      <td>AU</td>\n",
       "      <td>1668580755</td>\n",
       "    </tr>\n",
       "    <tr>\n",
       "      <th>1</th>\n",
       "      <td>kaka</td>\n",
       "      <td>37.3482</td>\n",
       "      <td>59.6143</td>\n",
       "      <td>54.68</td>\n",
       "      <td>41</td>\n",
       "      <td>0</td>\n",
       "      <td>3.04</td>\n",
       "      <td>TM</td>\n",
       "      <td>1668580880</td>\n",
       "    </tr>\n",
       "    <tr>\n",
       "      <th>2</th>\n",
       "      <td>yellowknife</td>\n",
       "      <td>62.4560</td>\n",
       "      <td>-114.3525</td>\n",
       "      <td>16.32</td>\n",
       "      <td>73</td>\n",
       "      <td>75</td>\n",
       "      <td>19.57</td>\n",
       "      <td>CA</td>\n",
       "      <td>1668580881</td>\n",
       "    </tr>\n",
       "    <tr>\n",
       "      <th>3</th>\n",
       "      <td>san cristobal</td>\n",
       "      <td>7.7669</td>\n",
       "      <td>-72.2250</td>\n",
       "      <td>64.65</td>\n",
       "      <td>96</td>\n",
       "      <td>95</td>\n",
       "      <td>1.92</td>\n",
       "      <td>VE</td>\n",
       "      <td>1668580881</td>\n",
       "    </tr>\n",
       "    <tr>\n",
       "      <th>4</th>\n",
       "      <td>punta arenas</td>\n",
       "      <td>-53.1500</td>\n",
       "      <td>-70.9167</td>\n",
       "      <td>46.51</td>\n",
       "      <td>61</td>\n",
       "      <td>40</td>\n",
       "      <td>5.75</td>\n",
       "      <td>CL</td>\n",
       "      <td>1668580881</td>\n",
       "    </tr>\n",
       "  </tbody>\n",
       "</table>\n",
       "</div>"
      ],
      "text/plain": [
       "                  City      Lat       Lng  Max Temp  Humidity  Cloudiness  \\\n",
       "City_ID                                                                     \n",
       "0               hobart -42.8794  147.3294     53.46        72          75   \n",
       "1                 kaka  37.3482   59.6143     54.68        41           0   \n",
       "2          yellowknife  62.4560 -114.3525     16.32        73          75   \n",
       "3        san cristobal   7.7669  -72.2250     64.65        96          95   \n",
       "4         punta arenas -53.1500  -70.9167     46.51        61          40   \n",
       "\n",
       "         Wind Speed Country        Date  \n",
       "City_ID                                  \n",
       "0             17.27      AU  1668580755  \n",
       "1              3.04      TM  1668580880  \n",
       "2             19.57      CA  1668580881  \n",
       "3              1.92      VE  1668580881  \n",
       "4              5.75      CL  1668580881  "
      ]
     },
     "execution_count": 69,
     "metadata": {},
     "output_type": "execute_result"
    }
   ],
   "source": [
    "# Read saved data\n",
    "city_data_df = pd.read_csv(\"output_data/cities.csv\", index_col=\"City_ID\")\n",
    "\n",
    "# Display sample data\n",
    "city_data_df.head()"
   ]
  },
  {
   "cell_type": "markdown",
   "metadata": {},
   "source": [
    "### Create the Scatter Plots Requested\n",
    "\n",
    "#### Latitude Vs. Temperature"
   ]
  },
  {
   "cell_type": "code",
   "execution_count": 73,
   "metadata": {
    "tags": []
   },
   "outputs": [
    {
     "data": {
      "image/png": "[encoded data removed]",
      "text/plain": [
       "<Figure size 432x288 with 1 Axes>"
      ]
     },
     "metadata": {
      "needs_background": "light"
     },
     "output_type": "display_data"
    }
   ],
   "source": [
    "# Build scatter plot for latitude vs. temperature\n",
    "plt.scatter(city_data_df[\"Lat\"],city_data_df[\"Max Temp\"])\n",
    "\n",
    "# Incorporate the other graph properties\n",
    "plt.title(\"City Latitude vs Max Temperature\")\n",
    "plt.xlabel(\"Latitude\")\n",
    "plt.ylabel(\"Max Temperature (F)\")\n",
    "\n",
    "# Save the figure\n",
    "plt.savefig(\"output_data/Fig1.png\")\n",
    "\n",
    "# Show plot\n",
    "plt.show()"
   ]
  },
  {
   "cell_type": "markdown",
   "metadata": {},
   "source": [
    "#### Latitude Vs. Humidity"
   ]
  },
  {
   "cell_type": "code",
   "execution_count": 74,
   "metadata": {},
   "outputs": [
    {
     "data": {
      "image/png": "[encoded data removed]",
      "text/plain": [
       "<Figure size 432x288 with 1 Axes>"
      ]
     },
     "metadata": {
      "needs_background": "light"
     },
     "output_type": "display_data"
    }
   ],
   "source": [
    "# Build the scatter plots for latitude vs. humidity\n",
    "plt.scatter(city_data_df[\"Lat\"],city_data_df[\"Humidity\"])\n",
    "\n",
    "# Incorporate the other graph properties\n",
    "plt.title(\"City Latitude vs Humidity\")\n",
    "plt.xlabel(\"Latitude\")\n",
    "plt.ylabel(\"Humidity (%)\")\n",
    "\n",
    "# Save the figure\n",
    "plt.savefig(\"output_data/Fig2.png\")\n",
    "\n",
    "# Show plot\n",
    "plt.show()"
   ]
  },
  {
   "cell_type": "markdown",
   "metadata": {},
   "source": [
    "#### Latitude Vs. Cloudiness"
   ]
  },
  {
   "cell_type": "code",
   "execution_count": 75,
   "metadata": {},
   "outputs": [
    {
     "data": {
      "image/png": "[encoded data removed]",
      "text/plain": [
       "<Figure size 432x288 with 1 Axes>"
      ]
     },
     "metadata": {
      "needs_background": "light"
     },
     "output_type": "display_data"
    }
   ],
   "source": [
    "# Build the scatter plots for latitude vs. cloudiness\n",
    "plt.scatter(city_data_df[\"Lat\"],city_data_df[\"Cloudiness\"])\n",
    "\n",
    "# Incorporate the other graph properties\n",
    "plt.title(\"City Latitude vs Cloudiness\")\n",
    "plt.xlabel(\"Latitude\")\n",
    "plt.ylabel(\"Cloudiness (%)\")\n",
    "\n",
    "# Save the figure\n",
    "plt.savefig(\"output_data/Fig3.png\")\n",
    "\n",
    "# Show plot\n",
    "plt.show()"
   ]
  },
  {
   "cell_type": "markdown",
   "metadata": {},
   "source": [
    "#### Latitude vs. Wind Speed Plot"
   ]
  },
  {
   "cell_type": "code",
   "execution_count": 76,
   "metadata": {},
   "outputs": [
    {
     "data": {
      "image/png": "[encoded data removed]",
      "text/plain": [
       "<Figure size 432x288 with 1 Axes>"
      ]
     },
     "metadata": {
      "needs_background": "light"
     },
     "output_type": "display_data"
    }
   ],
   "source": [
    "# Build the scatter plots for latitude vs. wind speed\n",
    "plt.scatter(city_data_df[\"Lat\"],city_data_df[\"Wind Speed\"])\n",
    "\n",
    "# Incorporate the other graph properties\n",
    "plt.title(\"City Latitude vs Wind Speed\")\n",
    "plt.xlabel(\"Latitude\")\n",
    "plt.ylabel(\"Wind Speed (mph)\")\n",
    "\n",
    "# Save the figure\n",
    "plt.savefig(\"output_data/Fig4.png\")\n",
    "\n",
    "# Show plot\n",
    "plt.show()"
   ]
  },
  {
   "cell_type": "markdown",
   "metadata": {},
   "source": [
    "---\n",
    "\n",
    "## Requirement 2: Compute Linear Regression for Each Relationship\n"
   ]
  },
  {
   "cell_type": "code",
   "execution_count": 55,
   "metadata": {},
   "outputs": [],
   "source": [
    "# Define a function to create Linear Regression plots\n",
    "def linear_regression(xval, yval,xlabel,ylabel):\n",
    "    (slope, intercept, rvalue, pvalue, stderr) = linregress(xval, yval)\n",
    "    regress_values = xval * slope + intercept\n",
    "    line_eq = \"y = \" + str(round(slope,2)) + \"x + \" + str(round(intercept,2))\n",
    "    plt.scatter(xval,yval)\n",
    "    plt.plot(xval,regress_values,\"r-\")\n",
    "    plt.annotate(line_eq,(5.8,0.8),fontsize=15,color=\"red\")\n",
    "    plt.xlabel(xlabel)\n",
    "    plt.ylabel(ylabel)\n",
    "    print(f\"The r-value is: {rvalue**2}\")\n",
    "    plt.show()"
   ]
  },
  {
   "cell_type": "code",
   "execution_count": 44,
   "metadata": {},
   "outputs": [
    {
     "data": {
      "text/html": [
       "<div>\n",
       "<style scoped>\n",
       "    .dataframe tbody tr th:only-of-type {\n",
       "        vertical-align: middle;\n",
       "    }\n",
       "\n",
       "    .dataframe tbody tr th {\n",
       "        vertical-align: top;\n",
       "    }\n",
       "\n",
       "    .dataframe thead th {\n",
       "        text-align: right;\n",
       "    }\n",
       "</style>\n",
       "<table border=\"1\" class=\"dataframe\">\n",
       "  <thead>\n",
       "    <tr style=\"text-align: right;\">\n",
       "      <th></th>\n",
       "      <th>City</th>\n",
       "      <th>Lat</th>\n",
       "      <th>Lng</th>\n",
       "      <th>Max Temp</th>\n",
       "      <th>Humidity</th>\n",
       "      <th>Cloudiness</th>\n",
       "      <th>Wind Speed</th>\n",
       "      <th>Country</th>\n",
       "    </tr>\n",
       "    <tr>\n",
       "      <th>City_ID</th>\n",
       "      <th></th>\n",
       "      <th></th>\n",
       "      <th></th>\n",
       "      <th></th>\n",
       "      <th></th>\n",
       "      <th></th>\n",
       "      <th></th>\n",
       "      <th></th>\n",
       "    </tr>\n",
       "  </thead>\n",
       "  <tbody>\n",
       "    <tr>\n",
       "      <th>2</th>\n",
       "      <td>pevek</td>\n",
       "      <td>69.7008</td>\n",
       "      <td>170.3133</td>\n",
       "      <td>-14.33</td>\n",
       "      <td>100</td>\n",
       "      <td>97</td>\n",
       "      <td>1.61</td>\n",
       "      <td>RU</td>\n",
       "    </tr>\n",
       "    <tr>\n",
       "      <th>4</th>\n",
       "      <td>yellowknife</td>\n",
       "      <td>62.4560</td>\n",
       "      <td>-114.3525</td>\n",
       "      <td>25.32</td>\n",
       "      <td>100</td>\n",
       "      <td>100</td>\n",
       "      <td>5.99</td>\n",
       "      <td>CA</td>\n",
       "    </tr>\n",
       "    <tr>\n",
       "      <th>5</th>\n",
       "      <td>bajram curri</td>\n",
       "      <td>42.3554</td>\n",
       "      <td>20.0784</td>\n",
       "      <td>62.20</td>\n",
       "      <td>70</td>\n",
       "      <td>99</td>\n",
       "      <td>4.52</td>\n",
       "      <td>AL</td>\n",
       "    </tr>\n",
       "    <tr>\n",
       "      <th>7</th>\n",
       "      <td>kodiak</td>\n",
       "      <td>57.7900</td>\n",
       "      <td>-152.4072</td>\n",
       "      <td>40.51</td>\n",
       "      <td>81</td>\n",
       "      <td>100</td>\n",
       "      <td>6.91</td>\n",
       "      <td>US</td>\n",
       "    </tr>\n",
       "    <tr>\n",
       "      <th>8</th>\n",
       "      <td>maryville</td>\n",
       "      <td>35.7565</td>\n",
       "      <td>-83.9705</td>\n",
       "      <td>42.12</td>\n",
       "      <td>89</td>\n",
       "      <td>100</td>\n",
       "      <td>3.00</td>\n",
       "      <td>US</td>\n",
       "    </tr>\n",
       "  </tbody>\n",
       "</table>\n",
       "</div>"
      ],
      "text/plain": [
       "                 City      Lat       Lng  Max Temp  Humidity  Cloudiness  \\\n",
       "City_ID                                                                    \n",
       "2               pevek  69.7008  170.3133    -14.33       100          97   \n",
       "4         yellowknife  62.4560 -114.3525     25.32       100         100   \n",
       "5        bajram curri  42.3554   20.0784     62.20        70          99   \n",
       "7              kodiak  57.7900 -152.4072     40.51        81         100   \n",
       "8           maryville  35.7565  -83.9705     42.12        89         100   \n",
       "\n",
       "         Wind Speed Country  \n",
       "City_ID                      \n",
       "2              1.61      RU  \n",
       "4              5.99      CA  \n",
       "5              4.52      AL  \n",
       "7              6.91      US  \n",
       "8              3.00      US  "
      ]
     },
     "execution_count": 44,
     "metadata": {},
     "output_type": "execute_result"
    }
   ],
   "source": [
    "# Create a DataFrame with the Northern Hemisphere data (Latitude >= 0)\n",
    "northern_hemi_df = city_data_df.loc[city_data_df[\"Lat\"] > 0]\n",
    "\n",
    "# Display sample data\n",
    "northern_hemi_df.head()"
   ]
  },
  {
   "cell_type": "code",
   "execution_count": 45,
   "metadata": {},
   "outputs": [
    {
     "data": {
      "text/html": [
       "<div>\n",
       "<style scoped>\n",
       "    .dataframe tbody tr th:only-of-type {\n",
       "        vertical-align: middle;\n",
       "    }\n",
       "\n",
       "    .dataframe tbody tr th {\n",
       "        vertical-align: top;\n",
       "    }\n",
       "\n",
       "    .dataframe thead th {\n",
       "        text-align: right;\n",
       "    }\n",
       "</style>\n",
       "<table border=\"1\" class=\"dataframe\">\n",
       "  <thead>\n",
       "    <tr style=\"text-align: right;\">\n",
       "      <th></th>\n",
       "      <th>City</th>\n",
       "      <th>Lat</th>\n",
       "      <th>Lng</th>\n",
       "      <th>Max Temp</th>\n",
       "      <th>Humidity</th>\n",
       "      <th>Cloudiness</th>\n",
       "      <th>Wind Speed</th>\n",
       "      <th>Country</th>\n",
       "    </tr>\n",
       "    <tr>\n",
       "      <th>City_ID</th>\n",
       "      <th></th>\n",
       "      <th></th>\n",
       "      <th></th>\n",
       "      <th></th>\n",
       "      <th></th>\n",
       "      <th></th>\n",
       "      <th></th>\n",
       "      <th></th>\n",
       "    </tr>\n",
       "  </thead>\n",
       "  <tbody>\n",
       "    <tr>\n",
       "      <th>0</th>\n",
       "      <td>avarua</td>\n",
       "      <td>-21.2078</td>\n",
       "      <td>-159.7750</td>\n",
       "      <td>71.65</td>\n",
       "      <td>68</td>\n",
       "      <td>76</td>\n",
       "      <td>10.36</td>\n",
       "      <td>CK</td>\n",
       "    </tr>\n",
       "    <tr>\n",
       "      <th>1</th>\n",
       "      <td>carnarvon</td>\n",
       "      <td>-24.8667</td>\n",
       "      <td>113.6333</td>\n",
       "      <td>75.60</td>\n",
       "      <td>64</td>\n",
       "      <td>2</td>\n",
       "      <td>15.35</td>\n",
       "      <td>AU</td>\n",
       "    </tr>\n",
       "    <tr>\n",
       "      <th>3</th>\n",
       "      <td>te anau</td>\n",
       "      <td>-45.4167</td>\n",
       "      <td>167.7167</td>\n",
       "      <td>54.54</td>\n",
       "      <td>72</td>\n",
       "      <td>100</td>\n",
       "      <td>2.71</td>\n",
       "      <td>NZ</td>\n",
       "    </tr>\n",
       "    <tr>\n",
       "      <th>6</th>\n",
       "      <td>cape town</td>\n",
       "      <td>-33.9258</td>\n",
       "      <td>18.4232</td>\n",
       "      <td>72.37</td>\n",
       "      <td>57</td>\n",
       "      <td>40</td>\n",
       "      <td>19.57</td>\n",
       "      <td>ZA</td>\n",
       "    </tr>\n",
       "    <tr>\n",
       "      <th>9</th>\n",
       "      <td>salinopolis</td>\n",
       "      <td>-0.6136</td>\n",
       "      <td>-47.3561</td>\n",
       "      <td>81.12</td>\n",
       "      <td>73</td>\n",
       "      <td>65</td>\n",
       "      <td>13.29</td>\n",
       "      <td>BR</td>\n",
       "    </tr>\n",
       "  </tbody>\n",
       "</table>\n",
       "</div>"
      ],
      "text/plain": [
       "                City      Lat       Lng  Max Temp  Humidity  Cloudiness  \\\n",
       "City_ID                                                                   \n",
       "0             avarua -21.2078 -159.7750     71.65        68          76   \n",
       "1          carnarvon -24.8667  113.6333     75.60        64           2   \n",
       "3            te anau -45.4167  167.7167     54.54        72         100   \n",
       "6          cape town -33.9258   18.4232     72.37        57          40   \n",
       "9        salinopolis  -0.6136  -47.3561     81.12        73          65   \n",
       "\n",
       "         Wind Speed Country  \n",
       "City_ID                      \n",
       "0             10.36      CK  \n",
       "1             15.35      AU  \n",
       "3              2.71      NZ  \n",
       "6             19.57      ZA  \n",
       "9             13.29      BR  "
      ]
     },
     "execution_count": 45,
     "metadata": {},
     "output_type": "execute_result"
    }
   ],
   "source": [
    "# Create a DataFrame with the Southern Hemisphere data (Latitude < 0)\n",
    "southern_hemi_df = city_data_df.loc[city_data_df[\"Lat\"] < 0]\n",
    "\n",
    "# Display sample data\n",
    "southern_hemi_df.head()"
   ]
  },
  {
   "cell_type": "markdown",
   "metadata": {},
   "source": [
    "###  Temperature vs. Latitude Linear Regression Plot"
   ]
  },
  {
   "cell_type": "code",
   "execution_count": 77,
   "metadata": {},
   "outputs": [
    {
     "name": "stdout",
     "output_type": "stream",
     "text": [
      "The r-value is: 0.7290744431113702\n"
     ]
    },
    {
     "data": {
      "image/png": "[encoded data removed]",
      "text/plain": [
       "<Figure size 432x288 with 1 Axes>"
      ]
     },
     "metadata": {
      "needs_background": "light"
     },
     "output_type": "display_data"
    }
   ],
   "source": [
    "# Linear regression on Northern Hemisphere\n",
    "linear_regression(northern_hemi_df[\"Lat\"],northern_hemi_df[\"Max Temp\"],\"Latitude\",\"Temperature (F)\")"
   ]
  },
  {
   "cell_type": "code",
   "execution_count": 78,
   "metadata": {},
   "outputs": [
    {
     "name": "stdout",
     "output_type": "stream",
     "text": [
      "The r-value is: 0.35996812102248293\n"
     ]
    },
    {
     "data": {
      "image/png": "[encoded data removed]",
      "text/plain": [
       "<Figure size 432x288 with 1 Axes>"
      ]
     },
     "metadata": {
      "needs_background": "light"
     },
     "output_type": "display_data"
    }
   ],
   "source": [
    "# Linear regression on Southern Hemisphere\n",
    "linear_regression(southern_hemi_df[\"Lat\"],southern_hemi_df[\"Max Temp\"],\"Latitude\",\"Temperature (F)\")"
   ]
  },
  {
   "cell_type": "markdown",
   "metadata": {},
   "source": [
    "**Discussion about the linear relationship:** YOUR RESPONSE HERE"
   ]
  },
  {
   "cell_type": "markdown",
   "metadata": {},
   "source": [
    "### Humidity vs. Latitude Linear Regression Plot"
   ]
  },
  {
   "cell_type": "code",
   "execution_count": 79,
   "metadata": {},
   "outputs": [
    {
     "name": "stdout",
     "output_type": "stream",
     "text": [
      "The r-value is: 0.15724222643863905\n"
     ]
    },
    {
     "data": {
      "image/png": "[encoded data removed]",
      "text/plain": [
       "<Figure size 432x288 with 1 Axes>"
      ]
     },
     "metadata": {
      "needs_background": "light"
     },
     "output_type": "display_data"
    }
   ],
   "source": [
    "# Northern Hemisphere\n",
    "linear_regression(northern_hemi_df[\"Lat\"],northern_hemi_df[\"Humidity\"],\"Latitude\",\"Humidity (%)\")"
   ]
  },
  {
   "cell_type": "code",
   "execution_count": 80,
   "metadata": {},
   "outputs": [
    {
     "name": "stdout",
     "output_type": "stream",
     "text": [
      "The r-value is: 0.016071765083570874\n"
     ]
    },
    {
     "data": {
      "image/png": "[encoded data removed]",
      "text/plain": [
       "<Figure size 432x288 with 1 Axes>"
      ]
     },
     "metadata": {
      "needs_background": "light"
     },
     "output_type": "display_data"
    }
   ],
   "source": [
    "# Southern Hemisphere\n",
    "linear_regression(southern_hemi_df[\"Lat\"],southern_hemi_df[\"Humidity\"],\"Latitude\",\"Humidity (%)\")"
   ]
  },
  {
   "cell_type": "markdown",
   "metadata": {},
   "source": [
    "**Discussion about the linear relationship:** YOUR RESPONSE HERE"
   ]
  },
  {
   "cell_type": "markdown",
   "metadata": {},
   "source": [
    "### Cloudiness vs. Latitude Linear Regression Plot"
   ]
  },
  {
   "cell_type": "code",
   "execution_count": 81,
   "metadata": {},
   "outputs": [
    {
     "name": "stdout",
     "output_type": "stream",
     "text": [
      "The r-value is: 0.03758981720997758\n"
     ]
    },
    {
     "data": {
      "image/png": "[encoded data removed]",
      "text/plain": [
       "<Figure size 432x288 with 1 Axes>"
      ]
     },
     "metadata": {
      "needs_background": "light"
     },
     "output_type": "display_data"
    }
   ],
   "source": [
    "# Northern Hemisphere\n",
    "linear_regression(northern_hemi_df[\"Lat\"],northern_hemi_df[\"Cloudiness\"],\"Latitude\",\"Cloudiness (%)\")"
   ]
  },
  {
   "cell_type": "code",
   "execution_count": 82,
   "metadata": {},
   "outputs": [
    {
     "name": "stdout",
     "output_type": "stream",
     "text": [
      "The r-value is: 0.11961029035215733\n"
     ]
    },
    {
     "data": {
      "image/png": "[encoded data removed]",
      "text/plain": [
       "<Figure size 432x288 with 1 Axes>"
      ]
     },
     "metadata": {
      "needs_background": "light"
     },
     "output_type": "display_data"
    }
   ],
   "source": [
    "# Southern Hemisphere\n",
    "linear_regression(southern_hemi_df[\"Lat\"],southern_hemi_df[\"Cloudiness\"],\"Latitude\",\"Cloudiness (%)\")"
   ]
  },
  {
   "cell_type": "markdown",
   "metadata": {},
   "source": [
    "**Discussion about the linear relationship:** YOUR RESPONSE HERE"
   ]
  },
  {
   "cell_type": "markdown",
   "metadata": {},
   "source": [
    "### Wind Speed vs. Latitude Linear Regression Plot"
   ]
  },
  {
   "cell_type": "code",
   "execution_count": 83,
   "metadata": {},
   "outputs": [
    {
     "name": "stdout",
     "output_type": "stream",
     "text": [
      "The r-value is: 0.015970734326482897\n"
     ]
    },
    {
     "data": {
      "image/png": "[encoded data removed]",
      "text/plain": [
       "<Figure size 432x288 with 1 Axes>"
      ]
     },
     "metadata": {
      "needs_background": "light"
     },
     "output_type": "display_data"
    }
   ],
   "source": [
    "# Northern Hemisphere\n",
    "linear_regression(northern_hemi_df[\"Lat\"],northern_hemi_df[\"Wind Speed\"],\"Latitude\",\"Wind Speed (mph)\")"
   ]
  },
  {
   "cell_type": "code",
   "execution_count": 84,
   "metadata": {},
   "outputs": [
    {
     "name": "stdout",
     "output_type": "stream",
     "text": [
      "The r-value is: 0.05121323903753759\n"
     ]
    },
    {
     "data": {
      "image/png": "[encoded data removed]",
      "text/plain": [
       "<Figure size 432x288 with 1 Axes>"
      ]
     },
     "metadata": {
      "needs_background": "light"
     },
     "output_type": "display_data"
    }
   ],
   "source": [
    "# Southern Hemisphere\n",
    "linear_regression(southern_hemi_df[\"Lat\"],southern_hemi_df[\"Wind Speed\"],\"Latitude\",\"Wind Speed (mph)\")"
   ]
  },
  {
   "cell_type": "markdown",
   "metadata": {},
   "source": [
    "**Discussion about the linear relationship:** YOUR RESPONSE HERE"
   ]
  },
  {
   "cell_type": "code",
   "execution_count": null,
   "metadata": {},
   "outputs": [],
   "source": []
  }
 ],
 "metadata": {
  "anaconda-cloud": {},
  "kernel_info": {
   "name": "python3"
  },
  "kernelspec": {
   "display_name": "Python 3 (ipykernel)",
   "language": "python",
   "name": "python3"
  },
  "language_info": {
   "codemirror_mode": {
    "name": "ipython",
    "version": 3
   },
   "file_extension": ".py",
   "mimetype": "text/x-python",
   "name": "python",
   "nbconvert_exporter": "python",
   "pygments_lexer": "ipython3",
   "version": "3.9.12"
  },
  "latex_envs": {
   "LaTeX_envs_menu_present": true,
   "autoclose": false,
   "autocomplete": true,
   "bibliofile": "biblio.bib",
   "cite_by": "apalike",
   "current_citInitial": 1,
   "eqLabelWithNumbers": true,
   "eqNumInitial": 1,
   "hotkeys": {
    "equation": "Ctrl-E",
    "itemize": "Ctrl-I"
   },
   "labels_anchors": false,
   "latex_user_defs": false,
   "report_style_numbering": false,
   "user_envs_cfg": false
  },
  "nteract": {
   "version": "0.12.3"
  },
  "vscode": {
   "interpreter": {
    "hash": "77f430f82a3b4f566e7b2cdc2d293cf69512eaaca064f8aa50786be756b5b6df"
   }
  }
 },
 "nbformat": 4,
 "nbformat_minor": 4
}
